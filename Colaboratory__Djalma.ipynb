{
  "cells": [
    {
      "cell_type": "markdown",
      "metadata": {
        "id": "view-in-github",
        "colab_type": "text"
      },
      "source": [
        "<a href=\"https://colab.research.google.com/github/djalmaloliveira/Arduino/blob/master/Colaboratory__Djalma.ipynb\" target=\"_parent\"><img src=\"https://colab.research.google.com/assets/colab-badge.svg\" alt=\"Open In Colab\"/></a>"
      ]
    },
    {
      "cell_type": "markdown",
      "metadata": {
        "id": "5fCEDCU_qrC0"
      },
      "source": [
        "\n",
        "\n",
        "\n",
        "<h1>Código do Djalma</h1>\n",
        "\n",
        "Ultimo acesso: 27/04/2022\n",
        "<br>\n",
        "Abaixo alguns códigos de teste\n",
        "\n",
        "Você pode ser um <strong>estudante</strong>, um <strong>cientista de dados</strong> ou um <strong>pesquisador de IA</strong>, o Colab pode facilitar seu trabalho. Assista ao vídeo <a href=\"https://www.youtube.com/watch?v=inN8seMm7UI\">Introdução ao Colab</a> para saber mais ou simplesmente comece a usá-lo abaixo!"
      ]
    },
    {
      "cell_type": "code",
      "source": [
        "#https://www.youtube.com/watch?v=OBJL5vPj4-E\n",
        "#Exercício Python #059 - Criando um Menu de Opções\n",
        "import cmath\n",
        "import os\n",
        "\n",
        "# Variaveis\n",
        "Zporcentagem = 6\n",
        "VbNova = 13.2\n",
        "VbVelha = 13.8\n",
        "Sbase = 1000e6\n",
        "Potencia = 500e3\n",
        "\n",
        "\n",
        "\n",
        "def curto_Tri(strEntra):\n",
        "  print(\"Aqui é curto trifásico ou simétrico\")\n",
        "  print(\"Valor da entrata: (\",strEntra)\n",
        "\n",
        "  #Calculo\n",
        "  ZTrafoPu = (Zporcentagem/100) * ((VbNova/VbVelha)**(.5)) * (Sbase/Potencia)\n",
        "  print(ZTrafoPu)\n",
        "  print(\"Vou tentar parar\")\n",
        "  quit()\n",
        "\n",
        "print(\"Calculo de curto circuto trifásico\")\n",
        "print(\"\")\n",
        "print(\"\")\n",
        "\n",
        "print(\"Tipos de curto circuito\")\n",
        "\n",
        "opcao = 0\n",
        "while opcao != 5 :\n",
        "  print(\"[ 1 ] - Trifásico ou Simétrico\")\n",
        "  print(\"[ 2 ] - Fase-Terra\")\n",
        "  print(\"[ 3 ] - Dupla-Fase\")\n",
        "  print(\"[ 4 ] - Dupla-Fase-Terra\")\n",
        "  print(\"[ 5 ] - Dupla-Fase-Terra\")\n",
        "\n",
        "  opcao = int(input(\"Entre com uma das oções\"))    \n",
        "  if opcao == 1:\n",
        "    curto_Tri(1)\n",
        "  elif opcao == 2:\n",
        "    curto_Tri(2)\n",
        "  elif opcao == 3:\n",
        "    curto_Tri(3)\n",
        "  elif opcao == 4:\n",
        "    curto_Tri(4)\n",
        "  elif opcao == 5:\n",
        "    curto_Tri(5)\n",
        "  else:\n",
        "    print(\"Opção invalida\")\n",
        "  \n",
        "print(\"Fim do programa\")\n",
        "\n",
        "print(\"\")\n",
        "print(\"\")\n",
        "\n",
        "\n",
        "\n",
        "curto_Tri()\n",
        "\n",
        "print(\"Icc30 = (1 / (Z1eq))*Ib\")\n",
        "print(\"Trafasico\")\n",
        "print(\"Icc30 = (1 / (Z1Sistema + Z1RedeAlimentador ))*(SB/(Raiz(3)*Vb)))\")\n",
        "print(\"\")\n",
        "\n",
        "z1 = complex(0.4678,0.9912);\n",
        "z0 = complex(0.4678,0.9912);\n",
        "\n",
        "Rl = 0.101*complex(0.3514,0.0817)\n",
        "print(\"Rl = \",Rl)\n",
        "\n",
        "Ib = 1*(100e6/13.8e3)\n",
        "print(\"Ib = \",Ib)\n",
        "\n",
        "numerador = 1\n",
        "Rl = complex(0.03549,0.008251)\n",
        "zSistema = complex(0.4678,0.9912)\n",
        "z1 = Rl + zSistema\n",
        "zn= z1 + z1\n",
        "print(\"zn = \",zn)\n",
        "\n",
        "Icc2 = (numerador/(zn))*Ib\n",
        "print(\"Icc2 = \",Icc2)\n",
        "print(\"\")\n",
        "print(\"Angulo = \",cmath.phase(Icc2))\n",
        "print(\"Angulo = \",cmath.phase(Icc2)*(180/cmath.pi))\n",
        "print(\"===\"*30)\n",
        "\n",
        "print(\"Bifasico - Fase Terra\")\n",
        "z1eq = complex(0.50329,0.99945)\n",
        "z2eq = complex(0,0)\n",
        "z0eq = complex(0.03549,3.329551)\n",
        "\n",
        "print(\"\")\n",
        "Ib = (100e6/13.8e3)\n",
        "print(\"Ib = \",Ib)\n",
        "Icc0t = 3*(numerador/(complex(1.04207,5.32845)))*Ib\n",
        "print(\"Agulo = \",cmath.phase(Icc0t)*(180/cmath.pi))\n",
        "\n",
        "real = Icc2.real\n",
        "imag = Icc2.imag\n",
        "\n",
        "#=================================\n",
        "print(\"===\"*30)\n",
        "T = complex(1,1);\n",
        "w = cmath.polar(T)\n",
        "print (\"O polar complexo number is : \",end=\"\")\n",
        "print (w)\n",
        "\n",
        "\n"
      ],
      "metadata": {
        "id": "PkLAUHHv3yCC"
      },
      "execution_count": null,
      "outputs": []
    },
    {
      "cell_type": "code",
      "source": [
        "#https://www.youtube.com/watch?v=OBJL5vPj4-E\n",
        "#Exercício Python #059 - Criando um Menu de Opções\n",
        "#Apenas calculo Tri\n",
        "import cmath\n",
        "import os\n",
        "\n",
        "# Variaveis\n",
        "Zporcentagem = 6\n",
        "VbNova = 13.2\n",
        "VbVelha = 13.8\n",
        "Sbase = 1000e6\n",
        "Potencia = 500e3\n",
        "\n",
        "\n",
        "\n",
        "def curto_Tri(strEntra):\n",
        "  print(\"Aqui é curto trifásico ou simétrico\")\n",
        "  print(\"Valor da entrata: (\",strEntra)\n",
        "\n",
        "  #Calculo\n",
        "  ZTrafoPu = (Zporcentagem/100) * ((VbNova/VbVelha)**(.5)) * (Sbase/Potencia)\n",
        "  print(ZTrafoPu)\n",
        "  print(\"Vou tentar parar\")\n",
        "  quit()\n",
        "\n",
        "print(\"Calculo de curto circuto trifásico\")\n",
        "print(\"\")\n",
        "print(\"\")\n",
        "\n",
        "print(\"Tipos de curto circuito\")\n",
        "\n",
        "opcao = 0\n",
        "while opcao != 5 :\n",
        "  print(\"[ 1 ] - Trifásico ou Simétrico\")\n",
        "  print(\"[ 2 ] - Fase-Terra\")\n",
        "  print(\"[ 3 ] - Dupla-Fase\")\n",
        "  print(\"[ 4 ] - Dupla-Fase-Terra\")\n",
        "  print(\"[ 5 ] - Dupla-Fase-Terra\")\n",
        "\n",
        "  opcao = int(input(\"Entre com uma das oções\"))    \n",
        "  if opcao == 1:\n",
        "    curto_Tri(1)\n",
        "  elif opcao == 2:\n",
        "    curto_Tri(2)\n",
        "  elif opcao == 3:\n",
        "    curto_Tri(3)\n",
        "  elif opcao == 4:\n",
        "    curto_Tri(4)\n",
        "  elif opcao == 5:\n",
        "    curto_Tri(5)\n",
        "  else:\n",
        "    print(\"Opção invalida\")\n",
        "  \n",
        "print(\"Fim do programa\")\n",
        "\n",
        "print(\"\")\n",
        "print(\"\")"
      ],
      "metadata": {
        "id": "WOlMGW-I_IiO"
      },
      "execution_count": null,
      "outputs": []
    },
    {
      "cell_type": "code",
      "source": [
        "#https://www.youtube.com/watch?v=OBJL5vPj4-E\n",
        "#Exercício Python #059 - Criando um Menu de Opções\n",
        "import cmath\n",
        "import os\n",
        "\n",
        "# Variaveis\n",
        "Zporcentagem = 6\n",
        "VbNova = 13.2\n",
        "VbVelha = 13.8\n",
        "Sbase = 1000e6\n",
        "Potencia = 500e3\n",
        "\n",
        "\n",
        "\n",
        "def curto_Tri(strEntra):\n",
        "  print(\"Aqui é curto trifásico ou simétrico\")\n",
        "  print(\"Valor da entrata: (\",strEntra)\n",
        "\n",
        "  #Calculo\n",
        "  ZTrafoPu = 0\n",
        "  #ZTrafoPu = (Zporcentagem/100) * ((VbNova/VbVelha)**(.5)) * (Sbase/Potencia)\n",
        "  print(ZTrafoPu)\n",
        "  print(\"Vou tentar parar\")\n",
        "  quit()\n",
        "\n",
        "print(\"Calculo de curto circuto trifásico\")\n",
        "\n",
        "\n",
        "\n",
        "    "
      ],
      "metadata": {
        "id": "Fs-Zr3nH_xII"
      },
      "execution_count": null,
      "outputs": []
    },
    {
      "cell_type": "markdown",
      "source": [
        "# Integrando Python com Excell\n",
        "\n",
        "Importando bibliotecas etc"
      ],
      "metadata": {
        "id": "EloshtI5hc8N"
      }
    },
    {
      "cell_type": "code",
      "source": [
        "# D:\\Work\\Engenharia\\TCC\\Integrando_Python Integrando o Python Com o Excel PDF - PDFCOFFEE.COM\n",
        "from openpyxl.reader.excel import load_workbook\n",
        "# Trabalhando com o OpenPyXL\n",
        "# arquivo pdf \"Integrando_Python_com_Excel.pdf\"\n",
        "\n",
        "\n",
        "from openpyxl import Workbook\n",
        "\n",
        "pasta = Workbook()\n",
        "pasta.create_sheet('Criando_Planilha')\n",
        "\n",
        "planilha01 = pasta.create_sheet('planilha01')\n",
        "planilha02 = pasta.create_sheet('planilha02',2)\n",
        "planilha03 = pasta.create_sheet('planilha03',1)\n",
        "planilha04 = pasta.create_sheet('MeuTrabalho',3)\n",
        "\n",
        "print(\"O nome da planilha é: \",planilha03.title)\n",
        "\n",
        "#Recupuera a planilha ativa\n",
        "print(\"Planilha atual: \", pasta.active)\n",
        "\n",
        "#Definindo planilha ativa\n",
        "pasta.active = pasta['planilha03']\n",
        "\n",
        "\n",
        "#Copiando planilha\n",
        "original = pasta['planilha03']\n",
        "copia = pasta.copy_worksheet(original)\n",
        "\n",
        "print(\"Nome da copia: \",copia.title)\n",
        "\n",
        "\n",
        "pasta.save('TesteArquivo_Excell.xlsx')\n",
        "#Abrir arquivo existente\n",
        "#pasta_existente = load_workbook('arquivo_Existente.xlsx')\n",
        "\n",
        "\n"
      ],
      "metadata": {
        "colab": {
          "base_uri": "https://localhost:8080/"
        },
        "id": "hbhMZuP_hIQt",
        "outputId": "f52c842f-1307-4988-aea1-a77368907d5d"
      },
      "execution_count": null,
      "outputs": [
        {
          "output_type": "stream",
          "name": "stdout",
          "text": [
            "O nome da planilha é:  planilha03\n",
            "Planilha atual:  <Worksheet \"Sheet\">\n",
            "Nome da copia:  planilha03 Copy\n"
          ]
        }
      ]
    },
    {
      "cell_type": "markdown",
      "source": [
        "# Djalma - Importar o Pandas"
      ],
      "metadata": {
        "id": "5KbrR4cZ-5Oz"
      }
    },
    {
      "cell_type": "code",
      "source": [
        "# Djalma - 24/04/2022\n",
        "#Importar dados para serem trabalhado pelo colab\n",
        "\n",
        "from google.colab import files\n",
        "\n",
        "uploaded = files.upload()\n",
        "\n",
        "for fn in uploaded.keys():\n",
        "  print('Arquivo a ser importado com nome de \"{name}\" com tamanho de {length} bytes'.format(\n",
        "      name=fn, length=len(uploaded[fn])))"
      ],
      "metadata": {
        "id": "3QAYN0kP9hx3",
        "colab": {
          "resources": {
            "http://localhost:8080/nbextensions/google.colab/files.js": {
              "data": "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",
              "ok": true,
              "headers": [
                [
                  "content-type",
                  "application/javascript"
                ]
              ],
              "status": 200,
              "status_text": ""
            }
          },
          "base_uri": "https://localhost:8080/",
          "height": 90
        },
        "outputId": "419e897d-bc40-4d35-a03a-c4bc2ea81af8"
      },
      "execution_count": null,
      "outputs": [
        {
          "output_type": "display_data",
          "data": {
            "text/plain": [
              "<IPython.core.display.HTML object>"
            ],
            "text/html": [
              "\n",
              "     <input type=\"file\" id=\"files-c7bf46a4-b40a-431b-bf6d-0fbc02089658\" name=\"files[]\" multiple disabled\n",
              "        style=\"border:none\" />\n",
              "     <output id=\"result-c7bf46a4-b40a-431b-bf6d-0fbc02089658\">\n",
              "      Upload widget is only available when the cell has been executed in the\n",
              "      current browser session. Please rerun this cell to enable.\n",
              "      </output>\n",
              "      <script src=\"/nbextensions/google.colab/files.js\"></script> "
            ]
          },
          "metadata": {}
        },
        {
          "output_type": "stream",
          "name": "stdout",
          "text": [
            "Saving medicao_de_marco_2022.xlsx to medicao_de_marco_2022.xlsx\n",
            "Arquivo a ser importado com nome de \"medicao_de_marco_2022.xlsx\" com tamanho de 2055686 bytes\n"
          ]
        }
      ]
    },
    {
      "cell_type": "code",
      "source": [
        "#Importar o Pandas\n",
        "import pandas as pd\n",
        "\n",
        "\n",
        "#Nova da Aba no execel: Dados_Tickets Encerrados\n",
        "\n",
        "df = pd.read_excel(r'/content/medicao_de_marco_2022.xlsx',sheet_name='Dados_Tickets Encerrados')\n",
        "print(\"*\"*30)\n",
        "#display(df)\n",
        "\n",
        "#produtos=vendas_df[['Produto','ID Loja']]\n",
        "print(\"*\"*30)\n",
        "\n",
        "solicitante=df[['Solicitante','Criador']]\n",
        "#display(solicitante)\n",
        "print(\"*\"*30)\n",
        "print(df.shape)\n",
        "print(\"*\"*30)\n",
        "#display(df.describe)\n",
        "print(\"*\"*30)\n"
      ],
      "metadata": {
        "colab": {
          "base_uri": "https://localhost:8080/"
        },
        "id": "0b76yxkXDA8c",
        "outputId": "1b28b99d-67ce-413f-ec0b-f116a397ebbb"
      },
      "execution_count": null,
      "outputs": [
        {
          "output_type": "stream",
          "name": "stdout",
          "text": [
            "******************************\n",
            "******************************\n",
            "******************************\n",
            "(1450, 43)\n",
            "******************************\n",
            "******************************\n"
          ]
        }
      ]
    },
    {
      "cell_type": "markdown",
      "metadata": {
        "id": "GJBs_flRovLc"
      },
      "source": [
        "## <strong>Qualificar</strong>\n",
        "\n",
        "Dados da Qualificar"
      ]
    },
    {
      "cell_type": "code",
      "source": [
        "#Pegar linhas que corresponde a uma condição\n",
        "\n",
        "\n",
        "#Importar o Pandas\n",
        "import pandas as pd\n",
        "\n",
        "Aba_trabalho = \"Dados_Tickets Encerrados\"\n",
        "Vetor_Coluna = ['id Solicitacao Servico','Serviço','Solicitante']\n",
        "\n",
        "df = pd.read_excel(r'/content/medicaodemarco2022.xlsx',sheet_name=Aba_trabalho)\n",
        "#print(\"*\"*30)\n",
        "#display(df)\n",
        "\n",
        "#produtos=vendas_df[['Produto','ID Loja']]\n",
        "#print(\"*\"*30)\n",
        "\n",
        "#solicitante=df[['Solicitante','Criador']]\n",
        "#display(solicitante)\n",
        "print(\"*\"*30)\n",
        "\n",
        "#Qualificar = df.loc[df['Solicitante']=='MARCOS JOSE DOS SANTOS']\n",
        "#Qualificar = df.loc[df['Responsável atual']=='MARCOS JOSE DOS SANTOS']\n",
        "Qualificar = df.loc[df['Responsável atual']=='MARCOS JOSE DOS SANTOS']\n",
        "Qualificar = df.loc[df['Responsável atual']=='DJALMA LEITE DE OLIVEIRA']\n",
        "#Qualificar=Qualificar[['id Solicitacao Servico','Solicitante', 'Responsável atual']]\n",
        "\n",
        "#Incluir o cabeçalho\n",
        "QualificarF = QualificarF[Vetor_Coluna]\n",
        "\n",
        "#QualificarF.head(3)\n",
        "\n",
        "QualificarF.head(3)\n",
        "print(Qualificar.shape)\n",
        "print(\"*\"*30)"
      ],
      "metadata": {
        "colab": {
          "base_uri": "https://localhost:8080/"
        },
        "id": "olNEf1H5NlEM",
        "outputId": "6e7b3897-920e-4d8f-d0ba-11378ffc508e"
      },
      "execution_count": null,
      "outputs": [
        {
          "output_type": "stream",
          "name": "stdout",
          "text": [
            "******************************\n",
            "(24, 43)\n",
            "******************************\n"
          ]
        }
      ]
    },
    {
      "cell_type": "code",
      "source": [
        "#Site do pandas\n",
        "#https://pandas.pydata.org/docs/reference/api/pandas.DataFrame.to_excel.html\n",
        "#https://www.youtube.com/watch?v=-m7vWWw80oU\n",
        "#Pegar linhas que corresponde a uma condição\n",
        "#Incluindo lista da Qualificar\n",
        "\n",
        "\n",
        "#Importar o Pandas\n",
        "import pandas as pd\n",
        "\n",
        "#Variaveis\n",
        "Aba_trabalho = \"Dados_Tickets Encerrados\"\n",
        "Vetor_Coluna = ['id Solicitacao Servico','Serviço','Solicitante','Criador','Data/hora abertura','Data/Hora captura','Situação','Grupo','Data/hora encerramento','Responsável atual','Contrato','E-mail','Unidade' ]\n",
        "\n",
        "Copel1 = \"ADALBI MARINHO DO ROSARIO\"\n",
        "Copel2 = \"ADEMIR JOSE BONFIM\"\n",
        "Copel3 = \"ADRIANO DE CASTRO\"\n",
        "Copel4 = \"ALIPIO BARBOSA DE ALMEIDA\"\n",
        "Copel5 = \"CASSIANO ROBERTO CERVANTES\"\n",
        "Copel6 = \"CURTTIS NUNES FERNANDES\"\n",
        "Copel7 = \"DJALMA LEITE DE OLIVEIRA\"\n",
        "Copel8 = \"EDNILSON BATISTA DE OLIVEIRA\"\n",
        "Copel9 = \"ELIZEU ARAUJO\"\n",
        "Copel10 = \"EMILSON APARECIDO DE OLIVEIRA\"\n",
        "Copel11 = \"EVERSON MAURO GALON\"\n",
        "Copel12 = \"FABIO SANTINE C GONCALVES\"\n",
        "Copel13 = \"LUCIANO HERINQUE C DE ABREU\"\n",
        "Copel14 = \"LUIS FERNANDO R DE GOES\"\n",
        "Copel15 = \"MARCOS JOSE DOS SANTOS\"\n",
        "Copel16 = \"MARCOS LUIZ VIER\"\n",
        "Copel17 = \"WALDINEY ARANTES DA SILVA\"\n",
        "\n",
        "Qual1 = 'DEBORAH SOARES DOS SANTOS'\n",
        "Qual2 = 'DENER CARDOSO DE REZENDE'\n",
        "Qual3 = 'ELTON OLIVEIRA COSTA DE SOUZA'\n",
        "Qual4 = 'FELIPE BORGES LINARES'\n",
        "Qual5 = 'JULIO CESAR RAMOS DE ARRUMA'\n",
        "Qual6 = 'LUCIANA B R A ARAUJO'\n",
        "Qual7 = 'MARCELO CONCHE ANSELMO'\n",
        "Qual8 = 'REINALDO C O NETO'\n",
        "Qual9 = 'RENAN FERNANDO ZANELLA'\n",
        "Qual10 = ''\n",
        "Qual11 = ''\n",
        "\n",
        "RelacaoQualificar = [Qual1,Qual2,Qual3,Qual4,Qual5,Qual6,Qual7,Qual8,Qual9,Qual10,Qual11]\n",
        "RelQual = pd.DataFrame(RelacaoQualificar)\n",
        "display(RelQual)\n",
        "\n",
        "\n",
        "df = pd.read_excel(r'/content/medicaodemarco2022.xlsx',sheet_name=Aba_trabalho)\n",
        "print(\"*\"*90)\n",
        "display(df.shape)\n",
        "print(\"*\"*90)\n",
        "\n",
        "Qualificar1 = df.loc[df['Responsável atual']== Qual1]\n",
        "Qualificar2 = df.loc[df['Responsável atual']== Qual2]\n",
        "Qualificar3 = df.loc[df['Responsável atual']== Qual3]\n",
        "Qualificar4 = df.loc[df['Responsável atual']== Qual4]\n",
        "Qualificar5 = df.loc[df['Responsável atual']== Qual5]\n",
        "Qualificar6 = df.loc[df['Responsável atual']== Qual6]\n",
        "Qualificar7 = df.loc[df['Responsável atual']== Qual7]\n",
        "Qualificar8 = df.loc[df['Responsável atual']== Qual8]\n",
        "Qualificar9 = df.loc[df['Responsável atual']== Qual9]\n",
        "Qualificar10 = df.loc[df['Responsável atual']== Qual10]\n",
        "Qualificar11 = df.loc[df['Responsável atual']== Qual11]\n",
        "\n",
        "\n",
        "QualificarF = Qualificar1\n",
        "QualificarF = QualificarF.append(Qualificar2)\n",
        "QualificarF = QualificarF.append(Qualificar3)\n",
        "QualificarF = QualificarF.append(Qualificar4)\n",
        "QualificarF = QualificarF.append(Qualificar5)\n",
        "QualificarF = QualificarF.append(Qualificar6)\n",
        "QualificarF = QualificarF.append(Qualificar7)\n",
        "QualificarF = QualificarF.append(Qualificar8)\n",
        "QualificarF = QualificarF.append(Qualificar9)\n",
        "QualificarF = QualificarF.append(Qualificar10)\n",
        "QualificarF = QualificarF.append(Qualificar11)\n",
        "\n",
        "#Incluir o cabeçalho\n",
        "QualificarF = QualificarF[Vetor_Coluna]\n",
        "QualificarF.loc['Total']=QualificarF.sum()\n",
        "\n",
        "#display(QualificarF)\n",
        "print(\"*\"*90)\n",
        "print(QualificarF.shape)        #mostra o total no visor\n",
        "print(\"*\"*90)\n",
        "\n",
        "QualificarF.loc[:,\"Cont\"] = 1   #adicionar coluna para somar\n",
        "QualificarGrupo = QualificarF.groupby('Responsável atual').sum(\"Cont\")\n",
        "QualificarGrupo.loc['Total']=QualificarGrupo.sum()\n",
        "\n",
        "\n"
      ],
      "metadata": {
        "colab": {
          "base_uri": "https://localhost:8080/",
          "height": 536
        },
        "id": "im9sACsuEgfT",
        "outputId": "718cfba8-cc55-4f45-a1c8-fa8c2cc9183b"
      },
      "execution_count": null,
      "outputs": [
        {
          "output_type": "display_data",
          "data": {
            "text/plain": [
              "                                0\n",
              "0       DEBORAH SOARES DOS SANTOS\n",
              "1        DENER CARDOSO DE REZENDE\n",
              "2   ELTON OLIVEIRA COSTA DE SOUZA\n",
              "3           FELIPE BORGES LINARES\n",
              "4     JULIO CESAR RAMOS DE ARRUMA\n",
              "5            LUCIANA B R A ARAUJO\n",
              "6          MARCELO CONCHE ANSELMO\n",
              "7               REINALDO C O NETO\n",
              "8          RENAN FERNANDO ZANELLA\n",
              "9                                \n",
              "10                               "
            ],
            "text/html": [
              "\n",
              "  <div id=\"df-27f18f89-dd02-4a2c-aabf-1f919ddee4bd\">\n",
              "    <div class=\"colab-df-container\">\n",
              "      <div>\n",
              "<style scoped>\n",
              "    .dataframe tbody tr th:only-of-type {\n",
              "        vertical-align: middle;\n",
              "    }\n",
              "\n",
              "    .dataframe tbody tr th {\n",
              "        vertical-align: top;\n",
              "    }\n",
              "\n",
              "    .dataframe thead th {\n",
              "        text-align: right;\n",
              "    }\n",
              "</style>\n",
              "<table border=\"1\" class=\"dataframe\">\n",
              "  <thead>\n",
              "    <tr style=\"text-align: right;\">\n",
              "      <th></th>\n",
              "      <th>0</th>\n",
              "    </tr>\n",
              "  </thead>\n",
              "  <tbody>\n",
              "    <tr>\n",
              "      <th>0</th>\n",
              "      <td>DEBORAH SOARES DOS SANTOS</td>\n",
              "    </tr>\n",
              "    <tr>\n",
              "      <th>1</th>\n",
              "      <td>DENER CARDOSO DE REZENDE</td>\n",
              "    </tr>\n",
              "    <tr>\n",
              "      <th>2</th>\n",
              "      <td>ELTON OLIVEIRA COSTA DE SOUZA</td>\n",
              "    </tr>\n",
              "    <tr>\n",
              "      <th>3</th>\n",
              "      <td>FELIPE BORGES LINARES</td>\n",
              "    </tr>\n",
              "    <tr>\n",
              "      <th>4</th>\n",
              "      <td>JULIO CESAR RAMOS DE ARRUMA</td>\n",
              "    </tr>\n",
              "    <tr>\n",
              "      <th>5</th>\n",
              "      <td>LUCIANA B R A ARAUJO</td>\n",
              "    </tr>\n",
              "    <tr>\n",
              "      <th>6</th>\n",
              "      <td>MARCELO CONCHE ANSELMO</td>\n",
              "    </tr>\n",
              "    <tr>\n",
              "      <th>7</th>\n",
              "      <td>REINALDO C O NETO</td>\n",
              "    </tr>\n",
              "    <tr>\n",
              "      <th>8</th>\n",
              "      <td>RENAN FERNANDO ZANELLA</td>\n",
              "    </tr>\n",
              "    <tr>\n",
              "      <th>9</th>\n",
              "      <td></td>\n",
              "    </tr>\n",
              "    <tr>\n",
              "      <th>10</th>\n",
              "      <td></td>\n",
              "    </tr>\n",
              "  </tbody>\n",
              "</table>\n",
              "</div>\n",
              "      <button class=\"colab-df-convert\" onclick=\"convertToInteractive('df-27f18f89-dd02-4a2c-aabf-1f919ddee4bd')\"\n",
              "              title=\"Convert this dataframe to an interactive table.\"\n",
              "              style=\"display:none;\">\n",
              "        \n",
              "  <svg xmlns=\"http://www.w3.org/2000/svg\" height=\"24px\"viewBox=\"0 0 24 24\"\n",
              "       width=\"24px\">\n",
              "    <path d=\"M0 0h24v24H0V0z\" fill=\"none\"/>\n",
              "    <path d=\"M18.56 5.44l.94 2.06.94-2.06 2.06-.94-2.06-.94-.94-2.06-.94 2.06-2.06.94zm-11 1L8.5 8.5l.94-2.06 2.06-.94-2.06-.94L8.5 2.5l-.94 2.06-2.06.94zm10 10l.94 2.06.94-2.06 2.06-.94-2.06-.94-.94-2.06-.94 2.06-2.06.94z\"/><path d=\"M17.41 7.96l-1.37-1.37c-.4-.4-.92-.59-1.43-.59-.52 0-1.04.2-1.43.59L10.3 9.45l-7.72 7.72c-.78.78-.78 2.05 0 2.83L4 21.41c.39.39.9.59 1.41.59.51 0 1.02-.2 1.41-.59l7.78-7.78 2.81-2.81c.8-.78.8-2.07 0-2.86zM5.41 20L4 18.59l7.72-7.72 1.47 1.35L5.41 20z\"/>\n",
              "  </svg>\n",
              "      </button>\n",
              "      \n",
              "  <style>\n",
              "    .colab-df-container {\n",
              "      display:flex;\n",
              "      flex-wrap:wrap;\n",
              "      gap: 12px;\n",
              "    }\n",
              "\n",
              "    .colab-df-convert {\n",
              "      background-color: #E8F0FE;\n",
              "      border: none;\n",
              "      border-radius: 50%;\n",
              "      cursor: pointer;\n",
              "      display: none;\n",
              "      fill: #1967D2;\n",
              "      height: 32px;\n",
              "      padding: 0 0 0 0;\n",
              "      width: 32px;\n",
              "    }\n",
              "\n",
              "    .colab-df-convert:hover {\n",
              "      background-color: #E2EBFA;\n",
              "      box-shadow: 0px 1px 2px rgba(60, 64, 67, 0.3), 0px 1px 3px 1px rgba(60, 64, 67, 0.15);\n",
              "      fill: #174EA6;\n",
              "    }\n",
              "\n",
              "    [theme=dark] .colab-df-convert {\n",
              "      background-color: #3B4455;\n",
              "      fill: #D2E3FC;\n",
              "    }\n",
              "\n",
              "    [theme=dark] .colab-df-convert:hover {\n",
              "      background-color: #434B5C;\n",
              "      box-shadow: 0px 1px 3px 1px rgba(0, 0, 0, 0.15);\n",
              "      filter: drop-shadow(0px 1px 2px rgba(0, 0, 0, 0.3));\n",
              "      fill: #FFFFFF;\n",
              "    }\n",
              "  </style>\n",
              "\n",
              "      <script>\n",
              "        const buttonEl =\n",
              "          document.querySelector('#df-27f18f89-dd02-4a2c-aabf-1f919ddee4bd button.colab-df-convert');\n",
              "        buttonEl.style.display =\n",
              "          google.colab.kernel.accessAllowed ? 'block' : 'none';\n",
              "\n",
              "        async function convertToInteractive(key) {\n",
              "          const element = document.querySelector('#df-27f18f89-dd02-4a2c-aabf-1f919ddee4bd');\n",
              "          const dataTable =\n",
              "            await google.colab.kernel.invokeFunction('convertToInteractive',\n",
              "                                                     [key], {});\n",
              "          if (!dataTable) return;\n",
              "\n",
              "          const docLinkHtml = 'Like what you see? Visit the ' +\n",
              "            '<a target=\"_blank\" href=https://colab.research.google.com/notebooks/data_table.ipynb>data table notebook</a>'\n",
              "            + ' to learn more about interactive tables.';\n",
              "          element.innerHTML = '';\n",
              "          dataTable['output_type'] = 'display_data';\n",
              "          await google.colab.output.renderOutput(dataTable, element);\n",
              "          const docLink = document.createElement('div');\n",
              "          docLink.innerHTML = docLinkHtml;\n",
              "          element.appendChild(docLink);\n",
              "        }\n",
              "      </script>\n",
              "    </div>\n",
              "  </div>\n",
              "  "
            ]
          },
          "metadata": {}
        },
        {
          "output_type": "stream",
          "name": "stdout",
          "text": [
            "******************************************************************************************\n"
          ]
        },
        {
          "output_type": "display_data",
          "data": {
            "text/plain": [
              "(1450, 43)"
            ]
          },
          "metadata": {}
        },
        {
          "output_type": "stream",
          "name": "stdout",
          "text": [
            "******************************************************************************************\n",
            "******************************************************************************************\n",
            "(1283, 13)\n",
            "******************************************************************************************\n"
          ]
        },
        {
          "output_type": "stream",
          "name": "stderr",
          "text": [
            "/usr/local/lib/python3.7/dist-packages/ipykernel_launcher.py:82: FutureWarning: Dropping of nuisance columns in DataFrame reductions (with 'numeric_only=None') is deprecated; in a future version this will raise TypeError.  Select only valid columns before calling the reduction.\n"
          ]
        }
      ]
    },
    {
      "cell_type": "markdown",
      "source": [
        "# Calculo de Curto circuito\n",
        "Detalhes para calculo de curto circuito\n",
        "\n",
        "\n"
      ],
      "metadata": {
        "id": "p2rsJrjY3qGv"
      }
    },
    {
      "cell_type": "code",
      "execution_count": null,
      "metadata": {
        "id": "-gE-Ez1qtyIA"
      },
      "outputs": [],
      "source": [
        "#EXporta e criar o arquivo Excel dos DataFrame prontos\n",
        "with pd.ExcelWriter('Resumo002.xlsx') as writer:  \n",
        "    QualificarF.to_excel(writer, sheet_name='Lista_Todos')\n",
        "    QualificarGrupo.to_excel(writer, sheet_name='Resumo')\n"
      ]
    },
    {
      "cell_type": "markdown",
      "metadata": {
        "id": "lSrWNr3MuFUS"
      },
      "source": [
        "Os notebooks do Colab permitem combinar <strong>código executável</strong> e <strong>rich text</strong> em um só documento, além de <strong>imagens</strong>, <strong>HTML</strong>, <strong>LaTeX</strong> e muito mais. Quando você cria seus próprios notebooks do Colab, eles são armazenados na sua conta do Google Drive. É possível compartilhar os notebooks do Colab facilmente com colegas de trabalho ou amigos e permitir que eles façam comentários ou até editem o documento. Para saber mais, consulte a <a href=\"/notebooks/basic_features_overview.ipynb\">Visão Geral do Colab</a>. Para criar um novo notebook do Colab, use o menu Arquivo acima ou acesse o seguinte: <a href=\"http://colab.research.google.com#create=true\">criar um novo notebook do Colab</a>.\n",
        "\n",
        "Os notebooks do Colab são notebooks do Jupyter hospedados no Colab. Para saber mais sobre o projeto Jupyter, acesse <a href=\"https://www.jupyter.org\">jupyter.org</a>."
      ]
    },
    {
      "cell_type": "markdown",
      "metadata": {
        "id": "UdRyKR44dcNI"
      },
      "source": [
        "## Ciência de dados\n",
        "\n",
        "Com o Colab, você pode aproveitar todo o potencial das conhecidas bibliotecas Python para analisar e ver dados. A célula de códigos abaixo usa <strong>numpy</strong> para gerar dados aleatórios e <strong>matplotlib</strong> para visualizá-los. Para editar o código, basta clicar na célula e começar a editar."
      ]
    },
    {
      "cell_type": "code",
      "execution_count": null,
      "metadata": {
        "colab": {
          "base_uri": "https://localhost:8080/",
          "height": 281
        },
        "id": "C4HZx7Gndbrh",
        "outputId": "46abc637-6abd-41b2-9bba-80a7ae992e06"
      },
      "outputs": [
        {
          "data": {
            "image/png": "[encoded data removed]",
            "text/plain": [
              "<Figure size 432x288 with 1 Axes>"
            ]
          },
          "metadata": {
            "tags": []
          },
          "output_type": "display_data"
        }
      ],
      "source": [
        "import numpy as np\n",
        "from matplotlib import pyplot as plt\n",
        "\n",
        "ys = 200 + np.random.randn(100)\n",
        "x = [x for x in range(len(ys))]\n",
        "\n",
        "plt.plot(x, ys, '-')\n",
        "plt.fill_between(x, ys, 195, where=(ys > 195), facecolor='g', alpha=0.6)\n",
        "\n",
        "plt.title(\"Sample Visualization\")\n",
        "plt.show()"
      ]
    },
    {
      "cell_type": "code",
      "source": [
        "# Calculo com vetores\n",
        "# Ler vetores\n",
        "\n",
        "meuVetor = [4,6,8,11,'',17,19,23]\n",
        "n = len(meuVetor)\n",
        "print(meuVetor[0])\n",
        "print('Tamanho do vetor: ',n)\n",
        "\n",
        "for i in meuVetor: \n",
        "  txt = \"565543\" \n",
        "  print(i,' é numero')\n",
        "\n",
        "  #print(i.isnumeric())\n",
        "  x = i.isnumeric()\n",
        "  print(type(i))\n",
        "  print(type(x))\n",
        "\n",
        "txt = \"565543\"\n",
        "\n",
        "\n",
        "x = txt.isnumeric()\n",
        "\n",
        "print(x)\n",
        "#print(y)"
      ],
      "metadata": {
        "id": "nqF-B8bRBaaz",
        "outputId": "4cc161e0-1a55-4545-a318-aafd0c4bae7b",
        "colab": {
          "base_uri": "https://localhost:8080/",
          "height": 287
        }
      },
      "execution_count": null,
      "outputs": [
        {
          "output_type": "stream",
          "name": "stdout",
          "text": [
            "4\n",
            "Tamanho do vetor:  8\n",
            "4  é numero\n"
          ]
        },
        {
          "output_type": "error",
          "ename": "AttributeError",
          "evalue": "ignored",
          "traceback": [
            "\u001b[0;31m---------------------------------------------------------------------------\u001b[0m",
            "\u001b[0;31mAttributeError\u001b[0m                            Traceback (most recent call last)",
            "\u001b[0;32m<ipython-input-44-2e85e6f263c4>\u001b[0m in \u001b[0;36m<module>\u001b[0;34m()\u001b[0m\n\u001b[1;32m     12\u001b[0m \u001b[0;34m\u001b[0m\u001b[0m\n\u001b[1;32m     13\u001b[0m   \u001b[0;31m#print(i.isnumeric())\u001b[0m\u001b[0;34m\u001b[0m\u001b[0;34m\u001b[0m\u001b[0;34m\u001b[0m\u001b[0m\n\u001b[0;32m---> 14\u001b[0;31m   \u001b[0mx\u001b[0m \u001b[0;34m=\u001b[0m \u001b[0mi\u001b[0m\u001b[0;34m.\u001b[0m\u001b[0misnumeric\u001b[0m\u001b[0;34m(\u001b[0m\u001b[0;34m)\u001b[0m\u001b[0;34m\u001b[0m\u001b[0;34m\u001b[0m\u001b[0m\n\u001b[0m\u001b[1;32m     15\u001b[0m   \u001b[0mprint\u001b[0m\u001b[0;34m(\u001b[0m\u001b[0mtype\u001b[0m\u001b[0;34m(\u001b[0m\u001b[0mi\u001b[0m\u001b[0;34m)\u001b[0m\u001b[0;34m)\u001b[0m\u001b[0;34m\u001b[0m\u001b[0;34m\u001b[0m\u001b[0m\n\u001b[1;32m     16\u001b[0m   \u001b[0mprint\u001b[0m\u001b[0;34m(\u001b[0m\u001b[0mtype\u001b[0m\u001b[0;34m(\u001b[0m\u001b[0mx\u001b[0m\u001b[0;34m)\u001b[0m\u001b[0;34m)\u001b[0m\u001b[0;34m\u001b[0m\u001b[0;34m\u001b[0m\u001b[0m\n",
            "\u001b[0;31mAttributeError\u001b[0m: 'int' object has no attribute 'isnumeric'"
          ]
        }
      ]
    },
    {
      "cell_type": "markdown",
      "metadata": {
        "id": "4_kCnsPUqS6o"
      },
      "source": [
        "É possível importar para os notebooks do Colab os dados da sua conta do Google Drive, como planilhas. Também é possível importar do GitHub e de muitas outras fontes. Para saber mais sobre como importar dados e como o Colab pode ser usado para a ciência de dados, consulte o link abaixo em <a href=\"#working-with-data\">Como trabalhar com dados</a>."
      ]
    }
  ],
  "metadata": {
    "colab": {
      "collapsed_sections": [],
      "name": "Colaboratory _Djalma",
      "provenance": [],
      "include_colab_link": true
    },
    "kernelspec": {
      "display_name": "Python 3",
      "name": "python3"
    }
  },
  "nbformat": 4,
  "nbformat_minor": 0
}